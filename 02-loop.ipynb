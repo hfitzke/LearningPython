{
 "cells": [
  {
   "cell_type": "markdown",
   "metadata": {},
   "source": [
    "# Loop"
   ]
  },
  {
   "cell_type": "code",
   "execution_count": 2,
   "metadata": {
    "collapsed": false
   },
   "outputs": [
    {
     "name": "stdout",
     "output_type": "stream",
     "text": [
      "H\n",
      "e\n",
      "a\n",
      "t\n",
      "h\n",
      "e\n",
      "r\n"
     ]
    }
   ],
   "source": [
    "word = 'Heather'\n",
    "for character in word: \n",
    "    print(character)"
   ]
  },
  {
   "cell_type": "code",
   "execution_count": 6,
   "metadata": {
    "collapsed": false
   },
   "outputs": [
    {
     "name": "stdout",
     "output_type": "stream",
     "text": [
      "there are  1 letters in word\n",
      "there are  2 letters in word\n",
      "there are  3 letters in word\n",
      "there are  4 letters in word\n",
      "there are  5 letters in word\n",
      "there are  6 letters in word\n",
      "there are  7 letters in word\n",
      "NO INDENT\n",
      "there are  7 letters in word\n"
     ]
    }
   ],
   "source": [
    "length = 0     # initalise counter\n",
    "for character in word: \n",
    "    length = length + 1\n",
    "\n",
    "    print (\"there are \", length, \"letters in word\")  \n",
    "    \n",
    "print (\"NO INDENT\")    \n",
    "print (\"there are \", length, \"letters in word\")  "
   ]
  },
  {
   "cell_type": "code",
   "execution_count": 8,
   "metadata": {
    "collapsed": false
   },
   "outputs": [
    {
     "name": "stdout",
     "output_type": "stream",
     "text": [
      "The length is: 7\n"
     ]
    }
   ],
   "source": [
    "# or \n",
    "print(\"The length is:\", len(word))\n"
   ]
  },
  {
   "cell_type": "code",
   "execution_count": 28,
   "metadata": {
    "collapsed": false
   },
   "outputs": [
    {
     "name": "stdout",
     "output_type": "stream",
     "text": [
      "False\n"
     ]
    }
   ],
   "source": [
    "# print(number in range(10,20,2))"
   ]
  },
  {
   "cell_type": "code",
   "execution_count": 10,
   "metadata": {
    "collapsed": false
   },
   "outputs": [
    {
     "name": "stdout",
     "output_type": "stream",
     "text": [
      "10\n",
      "12\n",
      "14\n",
      "16\n",
      "18\n"
     ]
    }
   ],
   "source": [
    "for number in range(10,20,2):\n",
    "    print(number)"
   ]
  },
  {
   "cell_type": "code",
   "execution_count": 17,
   "metadata": {
    "collapsed": false
   },
   "outputs": [
    {
     "name": "stdout",
     "output_type": "stream",
     "text": [
      "1\n",
      "8\n",
      "27\n",
      "64\n",
      "125\n"
     ]
    }
   ],
   "source": [
    "for number in range(1,6,1):\n",
    "    print(number**3)  # **3 = to the power of 3   / (number*number*number)"
   ]
  },
  {
   "cell_type": "code",
   "execution_count": 27,
   "metadata": {
    "collapsed": false
   },
   "outputs": [
    {
     "name": "stdout",
     "output_type": "stream",
     "text": [
      "suoicodalaipxecitsilajarfilacrepus\n"
     ]
    }
   ],
   "source": [
    "myword = 'supercalifrajalisticexpialadocious'\n",
    "myword_rev = ''\n",
    "\n",
    "for char in myword:  \n",
    "    myword_rev = char + myword_rev\n",
    "print(myword_rev)\n",
    "\n",
    "    \n",
    "\n"
   ]
  },
  {
   "cell_type": "code",
   "execution_count": 22,
   "metadata": {
    "collapsed": false
   },
   "outputs": [
    {
     "data": {
      "text/plain": [
       "'suoicodalaipxecitsilajarfilacrepus'"
      ]
     },
     "execution_count": 22,
     "metadata": {},
     "output_type": "execute_result"
    }
   ],
   "source": [
    "myword[::-1]   "
   ]
  },
  {
   "cell_type": "code",
   "execution_count": null,
   "metadata": {
    "collapsed": true
   },
   "outputs": [],
   "source": []
  }
 ],
 "metadata": {
  "kernelspec": {
   "display_name": "Python 3",
   "language": "python",
   "name": "python3"
  },
  "language_info": {
   "codemirror_mode": {
    "name": "ipython",
    "version": 3
   },
   "file_extension": ".py",
   "mimetype": "text/x-python",
   "name": "python",
   "nbconvert_exporter": "python",
   "pygments_lexer": "ipython3",
   "version": "3.6.0"
  }
 },
 "nbformat": 4,
 "nbformat_minor": 2
}
