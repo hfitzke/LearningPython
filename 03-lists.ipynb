{
 "cells": [
  {
   "cell_type": "markdown",
   "metadata": {},
   "source": [
    "# Learning how to list stuff\n",
    "Think of a list like a box"
   ]
  },
  {
   "cell_type": "code",
   "execution_count": 10,
   "metadata": {
    "collapsed": false
   },
   "outputs": [
    {
     "name": "stdout",
     "output_type": "stream",
     "text": [
      "[1, 3, 5, 7, 9]\n"
     ]
    }
   ],
   "source": [
    "#odds = number in range(1,21,2)\n",
    "odds = [1,3,5,7,9]\n",
    "print(odds)"
   ]
  },
  {
   "cell_type": "code",
   "execution_count": 8,
   "metadata": {
    "collapsed": false
   },
   "outputs": [
    {
     "name": "stdout",
     "output_type": "stream",
     "text": [
      "first and last: 1 and 9\n"
     ]
    }
   ],
   "source": [
    "print (\"first and last:\", odds[0],\"and\", odds[-1])"
   ]
  },
  {
   "cell_type": "code",
   "execution_count": 11,
   "metadata": {
    "collapsed": false
   },
   "outputs": [
    {
     "name": "stdout",
     "output_type": "stream",
     "text": [
      "original names\n"
     ]
    }
   ],
   "source": [
    "names = [\"newton\", \"darwin\", \"turing\", \"curie\", \"lovelace\"]\n",
    "print(\"original names\")"
   ]
  },
  {
   "cell_type": "code",
   "execution_count": 13,
   "metadata": {
    "collapsed": false
   },
   "outputs": [
    {
     "name": "stdout",
     "output_type": "stream",
     "text": [
      "old name: ['newton', 'darwin', 'turing', 'curie', 'lovelace']\n",
      "new name: ['Newton', 'darwin', 'turing', 'curie', 'lovelace']\n"
     ]
    }
   ],
   "source": [
    "names = [\"newton\", \"darwin\", \"turing\", \"curie\", \"lovelace\"]\n",
    "print(\"old name:\", names)\n",
    "names[0] = \"Newton\"\n",
    "print(\"new name:\", names)"
   ]
  },
  {
   "cell_type": "code",
   "execution_count": 22,
   "metadata": {
    "collapsed": false
   },
   "outputs": [
    {
     "name": "stdout",
     "output_type": "stream",
     "text": [
      "print(x)\n",
      "[['pepper', 'carrot', 'tomato'], ['cabbage', 'ginger', 'pear'], ['apple', 'lemon', 'banana']]\n",
      "\n",
      "print(x[0])\n",
      "['pepper', 'carrot', 'tomato']\n",
      "\n",
      "print(x[0][0])\n",
      "pepper\n",
      "\n"
     ]
    }
   ],
   "source": [
    "x = [[\"pepper\", \"carrot\", \"tomato\"],\n",
    "    [\"cabbage\", \"ginger\", \"pear\"],\n",
    "    [\"apple\", \"lemon\", \"banana\"]]\n",
    "print(\"print(x)\")\n",
    "print(x)\n",
    "print()\n",
    "\n",
    "print(\"print(x[0])\")\n",
    "print(x[0])\n",
    "print()\n",
    "\n",
    "print(\"print(x[0][0])\")\n",
    "print(x[0][0])\n",
    "print()\n"
   ]
  },
  {
   "cell_type": "code",
   "execution_count": 23,
   "metadata": {
    "collapsed": false
   },
   "outputs": [
    {
     "data": {
      "text/plain": [
       "[1, 3, 5, 7, 9]"
      ]
     },
     "execution_count": 23,
     "metadata": {},
     "output_type": "execute_result"
    }
   ],
   "source": [
    "odds"
   ]
  },
  {
   "cell_type": "code",
   "execution_count": 24,
   "metadata": {
    "collapsed": true
   },
   "outputs": [],
   "source": [
    "odds.append(11)"
   ]
  },
  {
   "cell_type": "code",
   "execution_count": 25,
   "metadata": {
    "collapsed": false
   },
   "outputs": [
    {
     "name": "stdout",
     "output_type": "stream",
     "text": [
      "[1, 3, 5, 7, 9, 11]\n"
     ]
    }
   ],
   "source": [
    "print(odds)\n"
   ]
  },
  {
   "cell_type": "code",
   "execution_count": 26,
   "metadata": {
    "collapsed": false
   },
   "outputs": [
    {
     "name": "stdout",
     "output_type": "stream",
     "text": [
      "[3, 5, 7, 9, 11]\n"
     ]
    }
   ],
   "source": [
    "del odds[0]\n",
    "print(odds)"
   ]
  },
  {
   "cell_type": "code",
   "execution_count": 27,
   "metadata": {
    "collapsed": true
   },
   "outputs": [],
   "source": [
    "odds.reverse()"
   ]
  },
  {
   "cell_type": "code",
   "execution_count": 28,
   "metadata": {
    "collapsed": false
   },
   "outputs": [
    {
     "data": {
      "text/plain": [
       "[11, 9, 7, 5, 3]"
      ]
     },
     "execution_count": 28,
     "metadata": {},
     "output_type": "execute_result"
    }
   ],
   "source": [
    "odds"
   ]
  },
  {
   "cell_type": "code",
   "execution_count": 35,
   "metadata": {
    "collapsed": false
   },
   "outputs": [
    {
     "name": "stdout",
     "output_type": "stream",
     "text": [
      "primes are: [1, 3, 5, 7, 9, 2]\n",
      "odds are: [1, 3, 5, 7, 9, 2]\n"
     ]
    }
   ],
   "source": [
    "odds  = [1, 3, 5, 7, 9]\n",
    "prime = odds \n",
    "prime += [2] # this is similar to primes.append(2)\n",
    "print(\"primes are:\", prime)\n",
    "print(\"odds are:\", odds)\n",
    "\n",
    "# this doesn't work because prime = odds ~ adding another label to the same box"
   ]
  },
  {
   "cell_type": "code",
   "execution_count": 38,
   "metadata": {
    "collapsed": false
   },
   "outputs": [
    {
     "name": "stdout",
     "output_type": "stream",
     "text": [
      "primes are: [1, 3, 5, 7, 9, 2]\n",
      "odds are: [1, 3, 5, 7, 9]\n"
     ]
    }
   ],
   "source": [
    "other_primes = odds [:]  # fix this by assigining the *elements* of odds to other primes\n",
    "odds  = [1, 3, 5, 7, 9]\n",
    "other_prime = odds[:] \n",
    "other_prime += [2] \n",
    "print(\"primes are:\", other_prime)\n",
    "print(\"odds are:\", odds)"
   ]
  },
  {
   "cell_type": "code",
   "execution_count": null,
   "metadata": {
    "collapsed": true
   },
   "outputs": [],
   "source": []
  }
 ],
 "metadata": {
  "kernelspec": {
   "display_name": "Python 3",
   "language": "python",
   "name": "python3"
  },
  "language_info": {
   "codemirror_mode": {
    "name": "ipython",
    "version": 3
   },
   "file_extension": ".py",
   "mimetype": "text/x-python",
   "name": "python",
   "nbconvert_exporter": "python",
   "pygments_lexer": "ipython3",
   "version": "3.6.0"
  }
 },
 "nbformat": 4,
 "nbformat_minor": 2
}
